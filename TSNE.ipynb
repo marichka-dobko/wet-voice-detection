{
 "cells": [
  {
   "cell_type": "code",
   "execution_count": null,
   "id": "16b5e4fc-c495-4a8b-858b-b3cf1bf23f22",
   "metadata": {},
   "outputs": [],
   "source": [
    "import numpy as np\n",
    "import librosa\n",
    "import librosa.display\n",
    "import pandas as pd\n",
    "import random\n",
    "import glob\n",
    "import matplotlib.pyplot as plt\n",
    "\n",
    "from sklearn.model_selection import train_test_split\n",
    "from sklearn.manifold import TSNE\n",
    "\n",
    "import warnings\n",
    "warnings.filterwarnings('ignore')"
   ]
  },
  {
   "cell_type": "markdown",
   "id": "73801855-9034-42ac-80ce-1fd8cfdeed70",
   "metadata": {},
   "source": [
    "### Splitting data"
   ]
  },
  {
   "cell_type": "code",
   "execution_count": null,
   "id": "56a1ae0f-2e9e-4323-bdba-1d9953cf992d",
   "metadata": {},
   "outputs": [],
   "source": [
    "random.seed(10)\n",
    "\n",
    "# Data files\n",
    "data_path_pre = 'wetvoice/extractedMPTs/pre swallow/**'\n",
    "data_files_pre = [x for x in glob.glob(data_path_pre) if '.wav' in x and 'android' not in x]\n",
    "\n",
    "data_path_post = 'wetvoice/extractedMPTs/post swallow/**'\n",
    "data_files_post = [x for x in glob.glob(data_path_post) if '.wav' in x and 'android' not in x]\n",
    "\n",
    "ids = [x.split('/')[-1].split('_post')[0] for x in data_files_post]\n",
    "\n",
    "train_files = [x for x in data_files_post if x.split('/')[-1].split('_post')[0] in ids[:95]]\n",
    "# val_files = [x for x in data_files_pre if x.split('/')[-1].split('_pre')[0] in ids[77:87]]\n",
    "# test_files = [x for x in data_files_pre if x.split('/')[-1].split('_pre')[0] in ids[87:]]\n",
    "\n",
    "len(train_files)"
   ]
  },
  {
   "cell_type": "markdown",
   "id": "241b6a15-4d73-44f4-8c66-457a079ba8c1",
   "metadata": {},
   "source": [
    "#### Labels"
   ]
  },
  {
   "cell_type": "code",
   "execution_count": null,
   "id": "c02b0d8f-7698-4b06-b0f4-f2ef4be9c2f1",
   "metadata": {},
   "outputs": [],
   "source": [
    "df = pd.read_excel('audio file numbers and aspiration values.xlsx')\n",
    "df.head()"
   ]
  },
  {
   "cell_type": "code",
   "execution_count": null,
   "id": "eb168b59-73d0-4f93-8fa1-45f7a72dcbda",
   "metadata": {},
   "outputs": [],
   "source": [
    "train_labels = [df[df['Audio File Name']==int(i.split('/')[-1].split('_post')[0])]['Aspiration  '].values[0]\n",
    "                for i in train_files]\n",
    "train_labels = [1 if x == 'Yes' else 0 for x in train_labels]\n",
    "len(train_labels)"
   ]
  },
  {
   "cell_type": "code",
   "execution_count": null,
   "id": "7b803330-76e2-4cb5-a55f-35b4f10c0922",
   "metadata": {},
   "outputs": [],
   "source": [
    "def extract_features(file_path):\n",
    "    # Load the audio file\n",
    "    y, sr = librosa.load(file_path)\n",
    "    \n",
    "    # Spectral features\n",
    "    spectral_centroids = librosa.feature.spectral_centroid(y=y, sr=sr)\n",
    "    spectral_rolloff = librosa.feature.spectral_rolloff(y=y, sr=sr)\n",
    "    spectral_bandwidth = librosa.feature.spectral_bandwidth(y=y, sr=sr)\n",
    "    \n",
    "    # Chroma features\n",
    "    chroma_stft = librosa.feature.chroma_stft(y=y, sr=sr)\n",
    "    \n",
    "    # Temporal features\n",
    "    zero_crossing_rate = librosa.feature.zero_crossing_rate(y)\n",
    "    \n",
    "    # Statistical features across frames\n",
    "    mean_centroid = np.mean(spectral_centroids)\n",
    "    std_centroid = np.std(spectral_centroids)\n",
    "    mean_rolloff = np.mean(spectral_rolloff)\n",
    "    std_rolloff = np.std(spectral_rolloff)\n",
    "    mean_bandwidth = np.mean(spectral_bandwidth)\n",
    "    std_bandwidth = np.std(spectral_bandwidth)\n",
    "    mean_chroma = np.mean(chroma_stft)\n",
    "    std_chroma = np.std(chroma_stft)\n",
    "    mean_zcr = np.mean(zero_crossing_rate)\n",
    "    std_zcr = np.std(zero_crossing_rate)\n",
    "    \n",
    "    # Combine all features into one feature vector\n",
    "    features = np.array([\n",
    "        mean_centroid, std_centroid, mean_rolloff, std_rolloff, mean_bandwidth, std_bandwidth,\n",
    "        mean_chroma, std_chroma, mean_zcr, std_zcr\n",
    "    ])\n",
    "    \n",
    "    return features\n",
    "\n",
    "\n",
    "audio_paths_a = train_files\n",
    "audio_paths_b = [x.replace('post', 'pre') for x in train_files]\n",
    "\n",
    "features = []\n",
    "for path_a, path_b in zip(audio_paths_a, audio_paths_b):\n",
    "    features_a = extract_features(path_a)\n",
    "    features.append(features_a)\n",
    "\n",
    "features = np.array(features)\n",
    "labels = np.array(train_labels)  \n",
    "\n",
    "# Split the dataset \n",
    "X_train, X_test, y_train, y_test = train_test_split(features, labels, test_size=0.2, random_state=42,  stratify=labels)"
   ]
  },
  {
   "cell_type": "markdown",
   "id": "f4e4c423-7a02-4ac7-ad20-c5dce107384f",
   "metadata": {},
   "source": [
    "## TSNE"
   ]
  },
  {
   "cell_type": "code",
   "execution_count": null,
   "id": "e49cd204-98ee-49ad-b194-2f574eef6445",
   "metadata": {},
   "outputs": [],
   "source": [
    "tsne = TSNE(n_components=2, random_state=42)\n",
    "\n",
    "features_2d = tsne.fit_transform(features)\n",
    "\n",
    "# Create a scatter plot\n",
    "plt.figure(figsize=(10, 6))\n",
    "colors = ['blue', 'red']  # Color for each class\n",
    "\n",
    "clmap = {0: 'Normal' , 1: \"Aspiration\"}\n",
    "# Plot each class\n",
    "for label, color in zip([0, 1], colors):\n",
    "    plt.scatter(features_2d[labels == label, 0], features_2d[labels == label, 1], c=color, label=f'{clmap[label]}')\n",
    "\n",
    "plt.title('t-SNE Visualization of Features')\n",
    "plt.xlabel('x')\n",
    "plt.ylabel('y')\n",
    "plt.legend() \n",
    "plt.grid(True)\n",
    "plt.show()"
   ]
  },
  {
   "cell_type": "code",
   "execution_count": null,
   "id": "8249689a-5e7d-4819-827b-035d2fbf377d",
   "metadata": {},
   "outputs": [],
   "source": []
  }
 ],
 "metadata": {
  "kernelspec": {
   "display_name": "Python 3 (ipykernel)",
   "language": "python",
   "name": "python3"
  },
  "language_info": {
   "codemirror_mode": {
    "name": "ipython",
    "version": 3
   },
   "file_extension": ".py",
   "mimetype": "text/x-python",
   "name": "python",
   "nbconvert_exporter": "python",
   "pygments_lexer": "ipython3",
   "version": "3.9.0"
  }
 },
 "nbformat": 4,
 "nbformat_minor": 5
}
