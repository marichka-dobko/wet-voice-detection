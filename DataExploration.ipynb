{
 "cells": [
  {
   "cell_type": "code",
   "execution_count": null,
   "id": "8befee36-e9ae-4738-acd8-c6ef2f9d0f9a",
   "metadata": {},
   "outputs": [],
   "source": [
    "import numpy as np\n",
    "import librosa\n",
    "import librosa.display\n",
    "import glob \n",
    "from scipy.io.wavfile import read as read_wav\n",
    "import matplotlib.pyplot as plt\n",
    "\n",
    "%load_ext autoreload\n",
    "%autoreload 2"
   ]
  },
  {
   "cell_type": "code",
   "execution_count": null,
   "id": "a5d22c72-0940-4cbb-9e05-c36b61269a93",
   "metadata": {},
   "outputs": [],
   "source": [
    "p_wav = 'wetvoice/extractedMPTs/pre swallow/142_pre_mpt.wav'\n",
    "sampling_rate, data = read_wav(p_wav) \n",
    "print(sampling_rate)"
   ]
  },
  {
   "cell_type": "markdown",
   "id": "022a3832-e50b-443b-bfdb-60fc2f9f3f80",
   "metadata": {},
   "source": [
    "## Data Statistics"
   ]
  },
  {
   "cell_type": "code",
   "execution_count": null,
   "id": "6444fd99-d771-4097-90a0-323a7ce3dd10",
   "metadata": {},
   "outputs": [],
   "source": [
    "data_path_pre = 'wetvoice/extractedMPTs/pre swallow/**'\n",
    "data_files_pre = [x for x in glob.glob(data_path_pre) if '.wav' in x and 'android' not in x]\n",
    "\n",
    "data_path_post = 'wetvoice/extractedMPTs/post swallow/**'\n",
    "data_files_post = [x for x in glob.glob(data_path_post) if '.wav' in x and 'android' not in x]\n",
    "\n",
    "len(data_files_pre), len(data_files_post)"
   ]
  },
  {
   "cell_type": "code",
   "execution_count": null,
   "id": "eab3a2c2-9891-4a59-9729-cfb5c4f53706",
   "metadata": {},
   "outputs": [],
   "source": [
    "def get_melspectrogram_db(file_path, sr=48000, n_fft=2048, hop_length=256, n_mels=128, fmin=20, fmax=8300, top_db=80):\n",
    "    wav, _ = librosa.load(file_path, sr=sr)\n",
    "    if wav.shape[0] < 5 * sr:\n",
    "        wav = np.pad(wav, int(np.ceil((5 * sr - wav.shape[0]) / 2)), mode='reflect')\n",
    "    else:\n",
    "        wav = wav[:5 * sr]\n",
    "\n",
    "    spec = librosa.feature.melspectrogram(y=wav, sr=sr, n_fft=n_fft,\n",
    "                                          hop_length=hop_length, n_mels=n_mels, fmin=fmin, fmax=fmax)\n",
    "    spec_db = librosa.power_to_db(spec, top_db=top_db)\n",
    "    \n",
    "    return spec_db"
   ]
  },
  {
   "cell_type": "code",
   "outputs": [],
   "source": [
    "d = glob.glob('wetvoice/extractedMPTs/post swallow/**')[0].replace('post', 'pre')\n",
    "t = get_melspectrogram_db(d)"
   ],
   "metadata": {},
   "id": "cc31a41c-0903-453a-a6bb-963949c26c61",
   "execution_count": null
  },
  {
   "cell_type": "code",
   "outputs": [],
   "source": [
    "np.concatenate([t, t]).shape"
   ],
   "metadata": {},
   "id": "8899d872-1fbc-4fd3-b6be-1452d2f333c7",
   "execution_count": null
  },
  {
   "cell_type": "markdown",
   "source": [
    "## Loading Data"
   ],
   "metadata": {},
   "id": "5acb0bfe-1605-496c-b7e7-c3c391452712"
  },
  {
   "cell_type": "markdown",
   "id": "2c1b49b2-e831-4e78-a5f9-abe8c37cb5af",
   "metadata": {},
   "source": [
    "### Melspectrogram for a Random File"
   ]
  },
  {
   "cell_type": "code",
   "execution_count": null,
   "id": "ffca20f7-f3f6-4f08-8419-7830d49fff89",
   "metadata": {},
   "outputs": [],
   "source": [
    "mls = get_melspectrogram_db(data_files[10])"
   ]
  },
  {
   "cell_type": "code",
   "execution_count": null,
   "id": "f68a588b-ad84-41cb-927e-4882b52f1820",
   "metadata": {},
   "outputs": [],
   "source": [
    "mls.shape"
   ]
  },
  {
   "cell_type": "code",
   "execution_count": null,
   "id": "f710a904-fd20-4c1d-92c1-8f6520d15b01",
   "metadata": {},
   "outputs": [],
   "source": [
    "mls[:, 0:2].shape"
   ]
  },
  {
   "cell_type": "code",
   "execution_count": null,
   "id": "55877241-4a35-45e8-ba33-a414dbec9e02",
   "metadata": {},
   "outputs": [],
   "source": [
    "plt.figure(figsize=(10, 4))\n",
    "librosa.display.specshow(mls, sr=48000, x_axis='time', y_axis='mel', fmax=8000)\n",
    "# librosa.display.specshow(mls[:, 0:2], sr=48000, hop_length=256, x_axis='time', y_axis='mel')\n",
    "# plt.colorbar(format='%+2.0f dB')\n",
    "# plt.title('Mel-frequency spectrogram')\n",
    "# plt.tight_layout()"
   ]
  },
  {
   "cell_type": "code",
   "execution_count": null,
   "id": "2c8d4898-57b4-47ea-930d-c7851b60162f",
   "metadata": {},
   "outputs": [],
   "source": []
  }
 ],
 "metadata": {
  "kernelspec": {
   "display_name": "Python 3 (ipykernel)",
   "language": "python",
   "name": "python3"
  },
  "language_info": {
   "codemirror_mode": {
    "name": "ipython",
    "version": 3
   },
   "file_extension": ".py",
   "mimetype": "text/x-python",
   "name": "python",
   "nbconvert_exporter": "python",
   "pygments_lexer": "ipython3",
   "version": "3.9.0"
  }
 },
 "nbformat": 4,
 "nbformat_minor": 5
}
